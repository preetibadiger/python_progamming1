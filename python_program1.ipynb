{
 "cells": [
  {
   "cell_type": "code",
   "execution_count": null,
   "id": "696a487f",
   "metadata": {},
   "outputs": [],
   "source": [
    "1. Write a Python program to print \"Hello Python\"?\n"
   ]
  },
  {
   "cell_type": "code",
   "execution_count": 1,
   "id": "eba084c9",
   "metadata": {},
   "outputs": [
    {
     "name": "stdout",
     "output_type": "stream",
     "text": [
      "Hello Python\n"
     ]
    }
   ],
   "source": [
    "print(\"Hello Python\")"
   ]
  },
  {
   "cell_type": "code",
   "execution_count": null,
   "id": "52628675",
   "metadata": {},
   "outputs": [],
   "source": [
    "2. Write a Python program to do arithmetical operations addition and division.?\n"
   ]
  },
  {
   "cell_type": "code",
   "execution_count": 3,
   "id": "47797e42",
   "metadata": {},
   "outputs": [
    {
     "name": "stdout",
     "output_type": "stream",
     "text": [
      "Enter first number: 3\n",
      "Enter second number: 4\n",
      "The sum of 3 and 4 is 7.0\n"
     ]
    }
   ],
   "source": [
    "#Addition\n",
    "num1 = input('Enter first number: ')  \n",
    "num2 = input('Enter second number: ')  \n",
    "  \n",
    "sum = float(num1) + float(num2)  \n",
    "print('The sum of {0} and {1} is {2}'.format(num1, num2, sum))  \n"
   ]
  },
  {
   "cell_type": "code",
   "execution_count": 4,
   "id": "378805d9",
   "metadata": {},
   "outputs": [
    {
     "name": "stdout",
     "output_type": "stream",
     "text": [
      "Enter first number: 25\n",
      "Enter second number: 5\n",
      "The division of 25 and 5 is 5.0\n"
     ]
    }
   ],
   "source": [
    "#Division\n",
    "num1 = input('Enter first number: ')  \n",
    "num2 = input('Enter second number: ')  \n",
    "  \n",
    "div = float(num1) / float(num2)  \n",
    "print('The division of {0} and {1} is {2}'.format(num1, num2, div))  "
   ]
  },
  {
   "cell_type": "code",
   "execution_count": null,
   "id": "e2516e7a",
   "metadata": {},
   "outputs": [],
   "source": [
    "3. Write a Python program to find the area of a triangle?"
   ]
  },
  {
   "cell_type": "code",
   "execution_count": 5,
   "id": "bd96dcee",
   "metadata": {},
   "outputs": [
    {
     "name": "stdout",
     "output_type": "stream",
     "text": [
      "Enter the length of first side: 3\n",
      "Enter  the length of second side: 4\n",
      "Enter  the length of third side: 5\n",
      "The area of the triangle is 6.00\n"
     ]
    }
   ],
   "source": [
    "a = float(input('Enter the length of first side: '))  \n",
    "b = float(input('Enter  the length of second side: '))  \n",
    "c = float(input('Enter  the length of third side: '))  \n",
    "s = (a + b + c) / 2  \n",
    "Area = (s*(s-a)*(s-b)*(s-c)) ** 0.5  \n",
    "print('The area of the triangle is %0.2f' %Area)"
   ]
  },
  {
   "cell_type": "code",
   "execution_count": null,
   "id": "49184bbf",
   "metadata": {},
   "outputs": [],
   "source": [
    "4. Write a Python program to swap two variables?"
   ]
  },
  {
   "cell_type": "code",
   "execution_count": 7,
   "id": "3f717a49",
   "metadata": {},
   "outputs": [
    {
     "name": "stdout",
     "output_type": "stream",
     "text": [
      "Please enter value for P: 3\n",
      "Please enter value for Q: 4\n",
      "The Value of P after swapping:  4\n",
      "The Value of Q after swapping:  3\n"
     ]
    }
   ],
   "source": [
    "P = int( input(\"Please enter value for P: \"))\n",
    "Q = int( input(\"Please enter value for Q: \"))\n",
    "\n",
    "# To Swap the values of two variables.\n",
    "\n",
    "P, Q = Q, P\n",
    "print (\"The Value of P after swapping: \", P)\n",
    "print (\"The Value of Q after swapping: \", Q)"
   ]
  },
  {
   "cell_type": "code",
   "execution_count": null,
   "id": "a65d7f80",
   "metadata": {},
   "outputs": [],
   "source": [
    "5. Write a Python program to generate a random number?"
   ]
  },
  {
   "cell_type": "code",
   "execution_count": 15,
   "id": "7a2dfa50",
   "metadata": {},
   "outputs": [
    {
     "name": "stdout",
     "output_type": "stream",
     "text": [
      "6\n"
     ]
    }
   ],
   "source": [
    "# Program to generate a random number between 0 and 100\n",
    "\n",
    "# importing the random module\n",
    "import random\n",
    "\n",
    "print(random.randint(0,100))"
   ]
  },
  {
   "cell_type": "code",
   "execution_count": null,
   "id": "faf911c8",
   "metadata": {},
   "outputs": [],
   "source": []
  }
 ],
 "metadata": {
  "kernelspec": {
   "display_name": "Python 3 (ipykernel)",
   "language": "python",
   "name": "python3"
  },
  "language_info": {
   "codemirror_mode": {
    "name": "ipython",
    "version": 3
   },
   "file_extension": ".py",
   "mimetype": "text/x-python",
   "name": "python",
   "nbconvert_exporter": "python",
   "pygments_lexer": "ipython3",
   "version": "3.9.7"
  }
 },
 "nbformat": 4,
 "nbformat_minor": 5
}
